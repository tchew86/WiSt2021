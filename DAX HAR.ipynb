{
 "cells": [
  {
   "cell_type": "markdown",
   "metadata": {},
   "source": [
    "This notebook reproduces the empirical example from\n",
    "\n",
    "Dudda, Tom; Klein, Tony; Walther, Thomas (2021): Schätzung und Vorhersage „Realisierter Volatilität“, in: WiSt – Wirtschaftswissenschaftliches Studium, Vol. 50, Nr. 4, pp. 19-25. DOI: 10.15358/0340-1650-2021-4-19."
   ]
  },
  {
   "cell_type": "code",
   "execution_count": 1,
   "metadata": {},
   "outputs": [],
   "source": [
    "# packages to load\n",
    "import numpy as np\n",
    "import statsmodels.api as sm\n",
    "import pandas as pd\n",
    "import matplotlib.pyplot as plt\n",
    "from scipy import stats"
   ]
  },
  {
   "cell_type": "markdown",
   "metadata": {},
   "source": [
    "We use the data from\n",
    "\n",
    "Heber, Gerd, Asger Lunde, Neil Shephard and Kevin Sheppard (2009) \"Oxford-Man Institute's realized library\", Oxford-Man Institute, University of Oxford.\n",
    "\n",
    "Library version 0.3\n"
   ]
  },
  {
   "cell_type": "code",
   "execution_count": 2,
   "metadata": {},
   "outputs": [],
   "source": [
    "# load data\n",
    "RV = pd.read_csv('https://realized.oxford-man.ox.ac.uk/images/oxfordmanrealizedvolatilityindices.zip', compression='zip')\n",
    "# First column Date index\n",
    "RV.rename(columns={'Unnamed: 0':'Date'}, inplace=True)\n",
    "RV['Date'] = pd.to_datetime(RV['Date'], utc=True).dt.date\n",
    "\n",
    "# Extract only 5min RV as single DataFrame with columns for each Stock index\n",
    "RV5min = RV.pivot_table(index=['Date'], \n",
    "            columns=['Symbol'], values='rv5')\n",
    "Prices = RV.pivot_table(index=['Date'], \n",
    "            columns=['Symbol'], values='close_price')"
   ]
  },
  {
   "cell_type": "code",
   "execution_count": 3,
   "metadata": {},
   "outputs": [
    {
     "name": "stdout",
     "output_type": "stream",
     "text": [
      "5339\n"
     ]
    }
   ],
   "source": [
    "# Build DataFrame for DAX with 5min RVs for 1, 5, and 22 days (averages) and drop NaNs\n",
    "daxrv = pd.DataFrame(columns={'RV1'})\n",
    "daxrv['RV1'] = np.sqrt(RV5min['.GDAXI'].dropna(0))\n",
    "daxrv['RV5'] = daxrv['RV1'].rolling(5,5).mean()\n",
    "daxrv['RV22'] = daxrv['RV1'].rolling(22,22).mean()\n",
    "print(len(daxrv))\n",
    "daxrv = daxrv.dropna(0)"
   ]
  },
  {
   "cell_type": "code",
   "execution_count": 4,
   "metadata": {},
   "outputs": [
    {
     "data": {
      "text/plain": [
       "5170"
      ]
     },
     "execution_count": 4,
     "metadata": {},
     "output_type": "execute_result"
    }
   ],
   "source": [
    "daxrv=daxrv.set_index(pd.to_datetime(daxrv.index))\n",
    "daxrv.sort_index(inplace=True, ascending=True)\n",
    "daxrv=daxrv.loc['2000-02-01':'2020-06-25']\n",
    "len(daxrv)"
   ]
  },
  {
   "cell_type": "code",
   "execution_count": 5,
   "metadata": {},
   "outputs": [],
   "source": [
    "Y1 = daxrv['RV1'][1:].reset_index(drop=True)\n",
    "X1 = daxrv.shift(1).iloc[1:,].reset_index(drop=True)\n",
    "Y5 = daxrv['RV1'][5:].reset_index(drop=True)\n",
    "X5 = daxrv.shift(5).iloc[5:,].reset_index(drop=True)\n",
    "Y22 = daxrv['RV1'][22:].reset_index(drop=True)\n",
    "X22 = daxrv.shift(22).iloc[22:,].reset_index(drop=True)"
   ]
  },
  {
   "cell_type": "code",
   "execution_count": 6,
   "metadata": {},
   "outputs": [
    {
     "data": {
      "text/html": [
       "<table class=\"simpletable\">\n",
       "<caption>OLS Regression Results</caption>\n",
       "<tr>\n",
       "  <th>Dep. Variable:</th>           <td>RV1</td>       <th>  R-squared:         </th>  <td>   0.733</td> \n",
       "</tr>\n",
       "<tr>\n",
       "  <th>Model:</th>                   <td>OLS</td>       <th>  Adj. R-squared:    </th>  <td>   0.733</td> \n",
       "</tr>\n",
       "<tr>\n",
       "  <th>Method:</th>             <td>Least Squares</td>  <th>  F-statistic:       </th>  <td>   1253.</td> \n",
       "</tr>\n",
       "<tr>\n",
       "  <th>Date:</th>             <td>Thu, 28 Jan 2021</td> <th>  Prob (F-statistic):</th>   <td>  0.00</td>  \n",
       "</tr>\n",
       "<tr>\n",
       "  <th>Time:</th>                 <td>15:12:32</td>     <th>  Log-Likelihood:    </th>  <td>  21844.</td> \n",
       "</tr>\n",
       "<tr>\n",
       "  <th>No. Observations:</th>      <td>  5169</td>      <th>  AIC:               </th> <td>-4.368e+04</td>\n",
       "</tr>\n",
       "<tr>\n",
       "  <th>Df Residuals:</th>          <td>  5165</td>      <th>  BIC:               </th> <td>-4.365e+04</td>\n",
       "</tr>\n",
       "<tr>\n",
       "  <th>Df Model:</th>              <td>     3</td>      <th>                     </th>      <td> </td>    \n",
       "</tr>\n",
       "<tr>\n",
       "  <th>Covariance Type:</th>         <td>HC3</td>       <th>                     </th>      <td> </td>    \n",
       "</tr>\n",
       "</table>\n",
       "<table class=\"simpletable\">\n",
       "<tr>\n",
       "    <td></td>       <th>coef</th>     <th>std err</th>      <th>z</th>      <th>P>|z|</th>  <th>[0.025</th>    <th>0.975]</th>  \n",
       "</tr>\n",
       "<tr>\n",
       "  <th>const</th> <td>    0.0006</td> <td>    0.000</td> <td>    3.861</td> <td> 0.000</td> <td>    0.000</td> <td>    0.001</td>\n",
       "</tr>\n",
       "<tr>\n",
       "  <th>RV1</th>   <td>    0.3930</td> <td>    0.042</td> <td>    9.450</td> <td> 0.000</td> <td>    0.311</td> <td>    0.474</td>\n",
       "</tr>\n",
       "<tr>\n",
       "  <th>RV5</th>   <td>    0.4050</td> <td>    0.057</td> <td>    7.088</td> <td> 0.000</td> <td>    0.293</td> <td>    0.517</td>\n",
       "</tr>\n",
       "<tr>\n",
       "  <th>RV22</th>  <td>    0.1500</td> <td>    0.039</td> <td>    3.865</td> <td> 0.000</td> <td>    0.074</td> <td>    0.226</td>\n",
       "</tr>\n",
       "</table>\n",
       "<table class=\"simpletable\">\n",
       "<tr>\n",
       "  <th>Omnibus:</th>       <td>3834.473</td> <th>  Durbin-Watson:     </th>  <td>   2.052</td> \n",
       "</tr>\n",
       "<tr>\n",
       "  <th>Prob(Omnibus):</th>  <td> 0.000</td>  <th>  Jarque-Bera (JB):  </th> <td>241887.957</td>\n",
       "</tr>\n",
       "<tr>\n",
       "  <th>Skew:</th>           <td> 2.956</td>  <th>  Prob(JB):          </th>  <td>    0.00</td> \n",
       "</tr>\n",
       "<tr>\n",
       "  <th>Kurtosis:</th>       <td>35.987</td>  <th>  Cond. No.          </th>  <td>    634.</td> \n",
       "</tr>\n",
       "</table><br/><br/>Warnings:<br/>[1] Standard Errors are heteroscedasticity robust (HC3)"
      ],
      "text/plain": [
       "<class 'statsmodels.iolib.summary.Summary'>\n",
       "\"\"\"\n",
       "                            OLS Regression Results                            \n",
       "==============================================================================\n",
       "Dep. Variable:                    RV1   R-squared:                       0.733\n",
       "Model:                            OLS   Adj. R-squared:                  0.733\n",
       "Method:                 Least Squares   F-statistic:                     1253.\n",
       "Date:                Thu, 28 Jan 2021   Prob (F-statistic):               0.00\n",
       "Time:                        15:12:32   Log-Likelihood:                 21844.\n",
       "No. Observations:                5169   AIC:                        -4.368e+04\n",
       "Df Residuals:                    5165   BIC:                        -4.365e+04\n",
       "Df Model:                           3                                         \n",
       "Covariance Type:                  HC3                                         \n",
       "==============================================================================\n",
       "                 coef    std err          z      P>|z|      [0.025      0.975]\n",
       "------------------------------------------------------------------------------\n",
       "const          0.0006      0.000      3.861      0.000       0.000       0.001\n",
       "RV1            0.3930      0.042      9.450      0.000       0.311       0.474\n",
       "RV5            0.4050      0.057      7.088      0.000       0.293       0.517\n",
       "RV22           0.1500      0.039      3.865      0.000       0.074       0.226\n",
       "==============================================================================\n",
       "Omnibus:                     3834.473   Durbin-Watson:                   2.052\n",
       "Prob(Omnibus):                  0.000   Jarque-Bera (JB):           241887.957\n",
       "Skew:                           2.956   Prob(JB):                         0.00\n",
       "Kurtosis:                      35.987   Cond. No.                         634.\n",
       "==============================================================================\n",
       "\n",
       "Warnings:\n",
       "[1] Standard Errors are heteroscedasticity robust (HC3)\n",
       "\"\"\""
      ]
     },
     "execution_count": 6,
     "metadata": {},
     "output_type": "execute_result"
    }
   ],
   "source": [
    "model = sm.OLS(Y1,sm.add_constant(X1))\n",
    "results = model.fit(cov_type='HC3')\n",
    "results.summary()"
   ]
  },
  {
   "cell_type": "code",
   "execution_count": 7,
   "metadata": {},
   "outputs": [
    {
     "data": {
      "text/plain": [
       "const    0.000145\n",
       "RV1      0.041585\n",
       "RV5      0.057134\n",
       "RV22     0.038793\n",
       "dtype: float64"
      ]
     },
     "execution_count": 7,
     "metadata": {},
     "output_type": "execute_result"
    }
   ],
   "source": [
    "results.HC3_se"
   ]
  },
  {
   "cell_type": "code",
   "execution_count": 8,
   "metadata": {},
   "outputs": [
    {
     "name": "stdout",
     "output_type": "stream",
     "text": [
      "4168"
     ]
    }
   ],
   "source": [
    "WindowL = 1000\n",
    "Y = Y1\n",
    "X = X1\n",
    "Nfor = len(Y)-WindowL\n",
    "RVfc = pd.DataFrame()\n",
    "\n",
    "fc = np.zeros(Nfor)\n",
    "for i in range(Nfor):\n",
    "    print('\\r'+str(i), end='')\n",
    "    Yh = Y[i:i+WindowL]\n",
    "    Xh = X.iloc[i:i+WindowL,:]\n",
    "    model = sm.OLS(Yh,sm.add_constant(Xh))\n",
    "    results = model.fit()\n",
    "    Xf = daxrv.iloc[i:i+WindowL+1,].reset_index(drop=True)\n",
    "    fore = results.predict(sm.add_constant(Xf))\n",
    "    fc[i] = fore[len(fore)-1]"
   ]
  },
  {
   "cell_type": "code",
   "execution_count": 10,
   "metadata": {},
   "outputs": [
    {
     "data": {
      "text/plain": [
       "Text(0.5, 0, '')"
      ]
     },
     "execution_count": 10,
     "metadata": {},
     "output_type": "execute_result"
    },
    {
     "data": {
      "image/png": "[encoded data removed]",
      "text/plain": [
       "<Figure size 720x360 with 1 Axes>"
      ]
     },
     "metadata": {
      "needs_background": "light"
     },
     "output_type": "display_data"
    }
   ],
   "source": [
    "from matplotlib import cm\n",
    "cmap = cm.get_cmap(\"Blues\")\n",
    "comp = pd.DataFrame({'RV':np.array(Y[-Nfor:])*100, 'HAR':fc*100, 'RW':np.array(Y[-Nfor-1:-1])*100}, index=daxrv.index[-Nfor:])\n",
    "ax = comp.iloc[-250:-1,[0,1,2]].plot(figsize=(10,5), color=[\"royalblue\", \"blue\", \"darkblue\"])\n",
    "ax.set_xlabel(\"\")\n",
    "# plt.savefig('forecast.png', bbox_inches='tight')\n",
    "# plt.savefig(forecast.eps', bbox_inches='tight')"
   ]
  },
  {
   "cell_type": "code",
   "execution_count": 11,
   "metadata": {},
   "outputs": [
    {
     "name": "stdout",
     "output_type": "stream",
     "text": [
      "RMSE 0.3177\n",
      "MAPE 0.2225\n",
      "MAFE 0.1989\n"
     ]
    }
   ],
   "source": [
    "RMSE = np.sqrt(np.mean((np.array(Y[-Nfor:])*100-fc*100)**2))\n",
    "print('RMSE %1.4f' %RMSE)\n",
    "MAPE = np.mean(np.abs(fc/np.array(Y[-Nfor:])-1))\n",
    "print('MAPE %1.4f' %MAPE)\n",
    "MAFE = np.mean(np.abs(np.array(Y[-Nfor:])*100-fc*100))\n",
    "print('MAFE %1.4f' %MAFE)"
   ]
  },
  {
   "cell_type": "code",
   "execution_count": 12,
   "metadata": {},
   "outputs": [
    {
     "name": "stdout",
     "output_type": "stream",
     "text": [
      "RMSE 0.3523\n",
      "MAPE 0.2437\n",
      "MAFE 0.2249\n"
     ]
    }
   ],
   "source": [
    "RMSE = np.sqrt(np.mean((np.array(Y[-Nfor:])*100-np.array(Y[-Nfor-1:-1])*100)**2))\n",
    "print('RMSE %1.4f' %RMSE)\n",
    "MAPE = np.mean(np.abs(np.array(Y[-Nfor-1:-1])/np.array(Y[-Nfor:])-1))\n",
    "print('MAPE %1.4f' %MAPE)\n",
    "MAFE = np.mean(np.abs(np.array(Y[-Nfor:])*100-np.array(Y[-Nfor-1:-1])*100))\n",
    "print('MAFE %1.4f' %MAFE)"
   ]
  },
  {
   "cell_type": "code",
   "execution_count": null,
   "metadata": {},
   "outputs": [],
   "source": []
  }
 ],
 "metadata": {
  "kernelspec": {
   "display_name": "Python 3",
   "language": "python",
   "name": "python3"
  },
  "language_info": {
   "codemirror_mode": {
    "name": "ipython",
    "version": 3
   },
   "file_extension": ".py",
   "mimetype": "text/x-python",
   "name": "python",
   "nbconvert_exporter": "python",
   "pygments_lexer": "ipython3",
   "version": "3.7.6"
  }
 },
 "nbformat": 4,
 "nbformat_minor": 4
}
